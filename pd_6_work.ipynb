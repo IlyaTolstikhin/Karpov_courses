{
 "cells": [
  {
   "cell_type": "code",
   "execution_count": 116,
   "id": "66b6b1c9",
   "metadata": {},
   "outputs": [],
   "source": [
    "import pandas as pd\n",
    "import seaborn as sns\n",
    "import matplotlib.pyplot as plt"
   ]
  },
  {
   "cell_type": "code",
   "execution_count": 2,
   "id": "380e081c",
   "metadata": {},
   "outputs": [],
   "source": [
    "avocado_mean = pd.read_csv(\"avocado_mean.csv\",\n",
    "                           index_col=0, squeeze=True, parse_dates=['Date'])"
   ]
  },
  {
   "cell_type": "code",
   "execution_count": null,
   "id": "739c8448",
   "metadata": {},
   "outputs": [],
   "source": [
    "#Посчитайте скользящее среднее цены авокадо (AveragePrice) с окном равным 3 (window). \n",
    "#Чему равно максимальное значение? Ответ округлите до 2 знаков после точки."
   ]
  },
  {
   "cell_type": "code",
   "execution_count": null,
   "id": "db39cb4d",
   "metadata": {},
   "outputs": [],
   "source": [
    "round(avocado_mean.rolling(3).mean().max(),2)"
   ]
  },
  {
   "cell_type": "code",
   "execution_count": 3,
   "id": "912798a3",
   "metadata": {
    "scrolled": true
   },
   "outputs": [
    {
     "data": {
      "text/plain": [
       "<AxesSubplot:xlabel='Date'>"
      ]
     },
     "execution_count": 3,
     "metadata": {},
     "output_type": "execute_result"
    },
    {
     "data": {
      "image/png": "[encoded data removed]",
      "text/plain": [
       "<Figure size 432x288 with 1 Axes>"
      ]
     },
     "metadata": {
      "needs_background": "light"
     },
     "output_type": "display_data"
    }
   ],
   "source": [
    "avocado_mean.rolling(2).mean().plot()"
   ]
  },
  {
   "cell_type": "code",
   "execution_count": 14,
   "id": "065d2159",
   "metadata": {},
   "outputs": [],
   "source": [
    "#экспоненциальное скользяя среднее\n",
    "avocado_ewm = avocado_mean.ewm(span=2).mean()"
   ]
  },
  {
   "cell_type": "code",
   "execution_count": 4,
   "id": "0eb5a931",
   "metadata": {},
   "outputs": [],
   "source": [
    "avocado_full =  pd.read_csv('avocado_full.csv',index_col=0, parse_dates=['Date']) #колонка в индекс"
   ]
  },
  {
   "cell_type": "code",
   "execution_count": 5,
   "id": "8ca4e392",
   "metadata": {},
   "outputs": [
    {
     "data": {
      "text/html": [
       "<div>\n",
       "<style scoped>\n",
       "    .dataframe tbody tr th:only-of-type {\n",
       "        vertical-align: middle;\n",
       "    }\n",
       "\n",
       "    .dataframe tbody tr th {\n",
       "        vertical-align: top;\n",
       "    }\n",
       "\n",
       "    .dataframe thead th {\n",
       "        text-align: right;\n",
       "    }\n",
       "</style>\n",
       "<table border=\"1\" class=\"dataframe\">\n",
       "  <thead>\n",
       "    <tr style=\"text-align: right;\">\n",
       "      <th></th>\n",
       "      <th>AveragePrice</th>\n",
       "      <th>Total Volume</th>\n",
       "      <th>4046</th>\n",
       "      <th>4225</th>\n",
       "      <th>4770</th>\n",
       "      <th>Total Bags</th>\n",
       "      <th>Small Bags</th>\n",
       "      <th>Large Bags</th>\n",
       "      <th>XLarge Bags</th>\n",
       "      <th>type</th>\n",
       "      <th>year</th>\n",
       "      <th>region</th>\n",
       "    </tr>\n",
       "    <tr>\n",
       "      <th>Date</th>\n",
       "      <th></th>\n",
       "      <th></th>\n",
       "      <th></th>\n",
       "      <th></th>\n",
       "      <th></th>\n",
       "      <th></th>\n",
       "      <th></th>\n",
       "      <th></th>\n",
       "      <th></th>\n",
       "      <th></th>\n",
       "      <th></th>\n",
       "      <th></th>\n",
       "    </tr>\n",
       "  </thead>\n",
       "  <tbody>\n",
       "    <tr>\n",
       "      <th>2015-01-04</th>\n",
       "      <td>1.75</td>\n",
       "      <td>27365.89</td>\n",
       "      <td>9307.34</td>\n",
       "      <td>3844.81</td>\n",
       "      <td>615.28</td>\n",
       "      <td>13598.46</td>\n",
       "      <td>13061.10</td>\n",
       "      <td>537.36</td>\n",
       "      <td>0.00</td>\n",
       "      <td>organic</td>\n",
       "      <td>2015</td>\n",
       "      <td>Southeast</td>\n",
       "    </tr>\n",
       "    <tr>\n",
       "      <th>2015-01-04</th>\n",
       "      <td>1.49</td>\n",
       "      <td>17723.17</td>\n",
       "      <td>1189.35</td>\n",
       "      <td>15628.27</td>\n",
       "      <td>0.00</td>\n",
       "      <td>905.55</td>\n",
       "      <td>905.55</td>\n",
       "      <td>0.00</td>\n",
       "      <td>0.00</td>\n",
       "      <td>organic</td>\n",
       "      <td>2015</td>\n",
       "      <td>Chicago</td>\n",
       "    </tr>\n",
       "    <tr>\n",
       "      <th>2015-01-04</th>\n",
       "      <td>1.68</td>\n",
       "      <td>2896.72</td>\n",
       "      <td>161.68</td>\n",
       "      <td>206.96</td>\n",
       "      <td>0.00</td>\n",
       "      <td>2528.08</td>\n",
       "      <td>2528.08</td>\n",
       "      <td>0.00</td>\n",
       "      <td>0.00</td>\n",
       "      <td>organic</td>\n",
       "      <td>2015</td>\n",
       "      <td>HarrisburgScranton</td>\n",
       "    </tr>\n",
       "    <tr>\n",
       "      <th>2015-01-04</th>\n",
       "      <td>1.52</td>\n",
       "      <td>54956.80</td>\n",
       "      <td>3013.04</td>\n",
       "      <td>35456.88</td>\n",
       "      <td>1561.70</td>\n",
       "      <td>14925.18</td>\n",
       "      <td>11264.80</td>\n",
       "      <td>3660.38</td>\n",
       "      <td>0.00</td>\n",
       "      <td>conventional</td>\n",
       "      <td>2015</td>\n",
       "      <td>Pittsburgh</td>\n",
       "    </tr>\n",
       "    <tr>\n",
       "      <th>2015-01-04</th>\n",
       "      <td>1.64</td>\n",
       "      <td>1505.12</td>\n",
       "      <td>1.27</td>\n",
       "      <td>1129.50</td>\n",
       "      <td>0.00</td>\n",
       "      <td>374.35</td>\n",
       "      <td>186.67</td>\n",
       "      <td>187.68</td>\n",
       "      <td>0.00</td>\n",
       "      <td>organic</td>\n",
       "      <td>2015</td>\n",
       "      <td>Boise</td>\n",
       "    </tr>\n",
       "    <tr>\n",
       "      <th>...</th>\n",
       "      <td>...</td>\n",
       "      <td>...</td>\n",
       "      <td>...</td>\n",
       "      <td>...</td>\n",
       "      <td>...</td>\n",
       "      <td>...</td>\n",
       "      <td>...</td>\n",
       "      <td>...</td>\n",
       "      <td>...</td>\n",
       "      <td>...</td>\n",
       "      <td>...</td>\n",
       "      <td>...</td>\n",
       "    </tr>\n",
       "    <tr>\n",
       "      <th>2018-03-25</th>\n",
       "      <td>1.36</td>\n",
       "      <td>908202.13</td>\n",
       "      <td>142681.06</td>\n",
       "      <td>463136.28</td>\n",
       "      <td>174975.75</td>\n",
       "      <td>127409.04</td>\n",
       "      <td>103579.41</td>\n",
       "      <td>22467.04</td>\n",
       "      <td>1362.59</td>\n",
       "      <td>conventional</td>\n",
       "      <td>2018</td>\n",
       "      <td>Chicago</td>\n",
       "    </tr>\n",
       "    <tr>\n",
       "      <th>2018-03-25</th>\n",
       "      <td>0.70</td>\n",
       "      <td>9010588.32</td>\n",
       "      <td>3999735.71</td>\n",
       "      <td>966589.50</td>\n",
       "      <td>30130.82</td>\n",
       "      <td>4014132.29</td>\n",
       "      <td>3398569.92</td>\n",
       "      <td>546409.74</td>\n",
       "      <td>69152.63</td>\n",
       "      <td>conventional</td>\n",
       "      <td>2018</td>\n",
       "      <td>SouthCentral</td>\n",
       "    </tr>\n",
       "    <tr>\n",
       "      <th>2018-03-25</th>\n",
       "      <td>1.42</td>\n",
       "      <td>163496.70</td>\n",
       "      <td>29253.30</td>\n",
       "      <td>5080.04</td>\n",
       "      <td>0.00</td>\n",
       "      <td>129163.36</td>\n",
       "      <td>109052.26</td>\n",
       "      <td>20111.10</td>\n",
       "      <td>0.00</td>\n",
       "      <td>organic</td>\n",
       "      <td>2018</td>\n",
       "      <td>SouthCentral</td>\n",
       "    </tr>\n",
       "    <tr>\n",
       "      <th>2018-03-25</th>\n",
       "      <td>1.70</td>\n",
       "      <td>190257.38</td>\n",
       "      <td>29644.09</td>\n",
       "      <td>70982.10</td>\n",
       "      <td>0.00</td>\n",
       "      <td>89631.19</td>\n",
       "      <td>89424.11</td>\n",
       "      <td>207.08</td>\n",
       "      <td>0.00</td>\n",
       "      <td>organic</td>\n",
       "      <td>2018</td>\n",
       "      <td>California</td>\n",
       "    </tr>\n",
       "    <tr>\n",
       "      <th>2018-03-25</th>\n",
       "      <td>1.34</td>\n",
       "      <td>1774776.77</td>\n",
       "      <td>63905.98</td>\n",
       "      <td>908653.71</td>\n",
       "      <td>843.45</td>\n",
       "      <td>801373.63</td>\n",
       "      <td>774634.09</td>\n",
       "      <td>23833.93</td>\n",
       "      <td>2905.61</td>\n",
       "      <td>conventional</td>\n",
       "      <td>2018</td>\n",
       "      <td>NewYork</td>\n",
       "    </tr>\n",
       "  </tbody>\n",
       "</table>\n",
       "<p>18249 rows × 12 columns</p>\n",
       "</div>"
      ],
      "text/plain": [
       "            AveragePrice  Total Volume        4046       4225       4770  \\\n",
       "Date                                                                       \n",
       "2015-01-04          1.75      27365.89     9307.34    3844.81     615.28   \n",
       "2015-01-04          1.49      17723.17     1189.35   15628.27       0.00   \n",
       "2015-01-04          1.68       2896.72      161.68     206.96       0.00   \n",
       "2015-01-04          1.52      54956.80     3013.04   35456.88    1561.70   \n",
       "2015-01-04          1.64       1505.12        1.27    1129.50       0.00   \n",
       "...                  ...           ...         ...        ...        ...   \n",
       "2018-03-25          1.36     908202.13   142681.06  463136.28  174975.75   \n",
       "2018-03-25          0.70    9010588.32  3999735.71  966589.50   30130.82   \n",
       "2018-03-25          1.42     163496.70    29253.30    5080.04       0.00   \n",
       "2018-03-25          1.70     190257.38    29644.09   70982.10       0.00   \n",
       "2018-03-25          1.34    1774776.77    63905.98  908653.71     843.45   \n",
       "\n",
       "            Total Bags  Small Bags  Large Bags  XLarge Bags          type  \\\n",
       "Date                                                                        \n",
       "2015-01-04    13598.46    13061.10      537.36         0.00       organic   \n",
       "2015-01-04      905.55      905.55        0.00         0.00       organic   \n",
       "2015-01-04     2528.08     2528.08        0.00         0.00       organic   \n",
       "2015-01-04    14925.18    11264.80     3660.38         0.00  conventional   \n",
       "2015-01-04      374.35      186.67      187.68         0.00       organic   \n",
       "...                ...         ...         ...          ...           ...   \n",
       "2018-03-25   127409.04   103579.41    22467.04      1362.59  conventional   \n",
       "2018-03-25  4014132.29  3398569.92   546409.74     69152.63  conventional   \n",
       "2018-03-25   129163.36   109052.26    20111.10         0.00       organic   \n",
       "2018-03-25    89631.19    89424.11      207.08         0.00       organic   \n",
       "2018-03-25   801373.63   774634.09    23833.93      2905.61  conventional   \n",
       "\n",
       "            year              region  \n",
       "Date                                  \n",
       "2015-01-04  2015           Southeast  \n",
       "2015-01-04  2015             Chicago  \n",
       "2015-01-04  2015  HarrisburgScranton  \n",
       "2015-01-04  2015          Pittsburgh  \n",
       "2015-01-04  2015               Boise  \n",
       "...          ...                 ...  \n",
       "2018-03-25  2018             Chicago  \n",
       "2018-03-25  2018        SouthCentral  \n",
       "2018-03-25  2018        SouthCentral  \n",
       "2018-03-25  2018          California  \n",
       "2018-03-25  2018             NewYork  \n",
       "\n",
       "[18249 rows x 12 columns]"
      ]
     },
     "execution_count": 5,
     "metadata": {},
     "output_type": "execute_result"
    }
   ],
   "source": [
    "avocado_full"
   ]
  },
  {
   "cell_type": "code",
   "execution_count": 24,
   "id": "30627ef1",
   "metadata": {},
   "outputs": [
    {
     "data": {
      "text/plain": [
       "<AxesSubplot:xlabel='Date'>"
      ]
     },
     "execution_count": 24,
     "metadata": {},
     "output_type": "execute_result"
    },
    {
     "data": {
      "image/png": "[encoded data removed]",
      "text/plain": [
       "<Figure size 432x288 with 1 Axes>"
      ]
     },
     "metadata": {
      "needs_background": "light"
     },
     "output_type": "display_data"
    }
   ],
   "source": [
    "avocado_full.query(\"type == 'organic' and region == 'Chicago'\")['AveragePrice'].rolling(4).mean().loc['2016-07-01':'2016-12-01'].plot()"
   ]
  },
  {
   "cell_type": "code",
   "execution_count": 18,
   "id": "677756c0",
   "metadata": {},
   "outputs": [
    {
     "data": {
      "text/plain": [
       "2.1025"
      ]
     },
     "execution_count": 18,
     "metadata": {},
     "output_type": "execute_result"
    }
   ],
   "source": [
    "avocado_full.query(\"type == 'organic' and region == 'Chicago'\")['AveragePrice'].rolling(4).mean().loc['2016-08-21']"
   ]
  },
  {
   "cell_type": "code",
   "execution_count": 25,
   "id": "e723e22f",
   "metadata": {},
   "outputs": [
    {
     "data": {
      "text/plain": [
       "<AxesSubplot:xlabel='Date'>"
      ]
     },
     "execution_count": 25,
     "metadata": {},
     "output_type": "execute_result"
    },
    {
     "data": {
      "image/png": "[encoded data removed]",
      "text/plain": [
       "<Figure size 432x288 with 1 Axes>"
      ]
     },
     "metadata": {
      "needs_background": "light"
     },
     "output_type": "display_data"
    }
   ],
   "source": [
    "avocado_full.query(\"type == 'organic' and region == 'Chicago'\")['AveragePrice'].ewm(span=4).mean().loc['2016-07-01':'2016-12-01'].plot()"
   ]
  },
  {
   "cell_type": "code",
   "execution_count": 20,
   "id": "06bbfc73",
   "metadata": {},
   "outputs": [
    {
     "data": {
      "text/plain": [
       "2.0624280388589287"
      ]
     },
     "execution_count": 20,
     "metadata": {},
     "output_type": "execute_result"
    }
   ],
   "source": [
    "avocado_full.query(\"type == 'organic' and region == 'Chicago'\")['AveragePrice'].ewm(span=4).mean().loc['2016-08-21']"
   ]
  },
  {
   "cell_type": "code",
   "execution_count": 21,
   "id": "a259bd5d",
   "metadata": {},
   "outputs": [
    {
     "data": {
      "text/plain": [
       "1.5618488617826691"
      ]
     },
     "execution_count": 21,
     "metadata": {},
     "output_type": "execute_result"
    }
   ],
   "source": [
    "avocado_full.query(\"type == 'organic' and region == 'Chicago'\")['AveragePrice'].ewm(span=4).mean().loc['2017-02-19']"
   ]
  },
  {
   "cell_type": "code",
   "execution_count": 22,
   "id": "a59da9b6",
   "metadata": {},
   "outputs": [
    {
     "data": {
      "text/plain": [
       "1.5325000000000002"
      ]
     },
     "execution_count": 22,
     "metadata": {},
     "output_type": "execute_result"
    }
   ],
   "source": [
    "avocado_full.query(\"type == 'organic' and region == 'Chicago'\")['AveragePrice'].rolling(4).mean().loc['2017-02-19']"
   ]
  },
  {
   "cell_type": "code",
   "execution_count": 26,
   "id": "86b6a4ca",
   "metadata": {},
   "outputs": [],
   "source": [
    "path_to_file = 'delays.csv'"
   ]
  },
  {
   "cell_type": "code",
   "execution_count": 97,
   "id": "fc54dfdb",
   "metadata": {},
   "outputs": [],
   "source": [
    "df = pd.read_csv(path_to_file, sep = ',')"
   ]
  },
  {
   "cell_type": "code",
   "execution_count": 98,
   "id": "cd5d397e",
   "metadata": {},
   "outputs": [
    {
     "data": {
      "text/html": [
       "<div>\n",
       "<style scoped>\n",
       "    .dataframe tbody tr th:only-of-type {\n",
       "        vertical-align: middle;\n",
       "    }\n",
       "\n",
       "    .dataframe tbody tr th {\n",
       "        vertical-align: top;\n",
       "    }\n",
       "\n",
       "    .dataframe thead th {\n",
       "        text-align: right;\n",
       "    }\n",
       "</style>\n",
       "<table border=\"1\" class=\"dataframe\">\n",
       "  <thead>\n",
       "    <tr style=\"text-align: right;\">\n",
       "      <th></th>\n",
       "      <th>client_id</th>\n",
       "      <th>company_id</th>\n",
       "      <th>delay</th>\n",
       "      <th>revenue</th>\n",
       "    </tr>\n",
       "  </thead>\n",
       "  <tbody>\n",
       "    <tr>\n",
       "      <th>0</th>\n",
       "      <td>2389</td>\n",
       "      <td>4240</td>\n",
       "      <td>-1 days -14:57:48.000000000</td>\n",
       "      <td>705436</td>\n",
       "    </tr>\n",
       "    <tr>\n",
       "      <th>1</th>\n",
       "      <td>7614</td>\n",
       "      <td>9544</td>\n",
       "      <td>-4 days -02:14:23.000000000</td>\n",
       "      <td>859266</td>\n",
       "    </tr>\n",
       "    <tr>\n",
       "      <th>2</th>\n",
       "      <td>2052</td>\n",
       "      <td>2427</td>\n",
       "      <td>-0 days -06:08:57.000000000</td>\n",
       "      <td>812416</td>\n",
       "    </tr>\n",
       "    <tr>\n",
       "      <th>3</th>\n",
       "      <td>9635</td>\n",
       "      <td>8054</td>\n",
       "      <td>-0 days -23:40:19.000000000</td>\n",
       "      <td>162312</td>\n",
       "    </tr>\n",
       "    <tr>\n",
       "      <th>4</th>\n",
       "      <td>8154</td>\n",
       "      <td>5503</td>\n",
       "      <td>-1 days -13:21:53.000000000</td>\n",
       "      <td>658844</td>\n",
       "    </tr>\n",
       "    <tr>\n",
       "      <th>...</th>\n",
       "      <td>...</td>\n",
       "      <td>...</td>\n",
       "      <td>...</td>\n",
       "      <td>...</td>\n",
       "    </tr>\n",
       "    <tr>\n",
       "      <th>259</th>\n",
       "      <td>5837</td>\n",
       "      <td>2617</td>\n",
       "      <td>-0 days -05:32:08.000000000</td>\n",
       "      <td>602129</td>\n",
       "    </tr>\n",
       "    <tr>\n",
       "      <th>260</th>\n",
       "      <td>2384</td>\n",
       "      <td>2364</td>\n",
       "      <td>-3 days -23:27:14.000000000</td>\n",
       "      <td>910660</td>\n",
       "    </tr>\n",
       "    <tr>\n",
       "      <th>261</th>\n",
       "      <td>5146</td>\n",
       "      <td>3331</td>\n",
       "      <td>-1 days -15:22:34.000000000</td>\n",
       "      <td>401137</td>\n",
       "    </tr>\n",
       "    <tr>\n",
       "      <th>262</th>\n",
       "      <td>7203</td>\n",
       "      <td>5532</td>\n",
       "      <td>-2 days -17:15:02.000000000</td>\n",
       "      <td>308979</td>\n",
       "    </tr>\n",
       "    <tr>\n",
       "      <th>263</th>\n",
       "      <td>3822</td>\n",
       "      <td>9882</td>\n",
       "      <td>-1 days -15:50:29.000000000</td>\n",
       "      <td>877773</td>\n",
       "    </tr>\n",
       "  </tbody>\n",
       "</table>\n",
       "<p>264 rows × 4 columns</p>\n",
       "</div>"
      ],
      "text/plain": [
       "     client_id  company_id                        delay  revenue\n",
       "0         2389        4240  -1 days -14:57:48.000000000   705436\n",
       "1         7614        9544  -4 days -02:14:23.000000000   859266\n",
       "2         2052        2427  -0 days -06:08:57.000000000   812416\n",
       "3         9635        8054  -0 days -23:40:19.000000000   162312\n",
       "4         8154        5503  -1 days -13:21:53.000000000   658844\n",
       "..         ...         ...                          ...      ...\n",
       "259       5837        2617  -0 days -05:32:08.000000000   602129\n",
       "260       2384        2364  -3 days -23:27:14.000000000   910660\n",
       "261       5146        3331  -1 days -15:22:34.000000000   401137\n",
       "262       7203        5532  -2 days -17:15:02.000000000   308979\n",
       "263       3822        9882  -1 days -15:50:29.000000000   877773\n",
       "\n",
       "[264 rows x 4 columns]"
      ]
     },
     "execution_count": 98,
     "metadata": {},
     "output_type": "execute_result"
    }
   ],
   "source": [
    "df"
   ]
  },
  {
   "cell_type": "code",
   "execution_count": 99,
   "id": "a6e06f15",
   "metadata": {},
   "outputs": [],
   "source": [
    "df['delay'] = df.delay.str.replace('-', '')"
   ]
  },
  {
   "cell_type": "code",
   "execution_count": 100,
   "id": "294bc98f",
   "metadata": {},
   "outputs": [],
   "source": [
    "df['delay'] = pd.to_timedelta(df.delay)"
   ]
  },
  {
   "cell_type": "code",
   "execution_count": 101,
   "id": "6fe3057a",
   "metadata": {},
   "outputs": [
    {
     "data": {
      "text/plain": [
       "client_id               int64\n",
       "company_id              int64\n",
       "delay         timedelta64[ns]\n",
       "revenue                 int64\n",
       "dtype: object"
      ]
     },
     "execution_count": 101,
     "metadata": {},
     "output_type": "execute_result"
    }
   ],
   "source": [
    "data.dtypes"
   ]
  },
  {
   "cell_type": "code",
   "execution_count": 102,
   "id": "4203bead",
   "metadata": {},
   "outputs": [],
   "source": [
    "df['delay_categorical'] = pd.cut(df.delay, 3)"
   ]
  },
  {
   "cell_type": "code",
   "execution_count": 103,
   "id": "0f0b9558",
   "metadata": {},
   "outputs": [
    {
     "data": {
      "text/html": [
       "<div>\n",
       "<style scoped>\n",
       "    .dataframe tbody tr th:only-of-type {\n",
       "        vertical-align: middle;\n",
       "    }\n",
       "\n",
       "    .dataframe tbody tr th {\n",
       "        vertical-align: top;\n",
       "    }\n",
       "\n",
       "    .dataframe thead th {\n",
       "        text-align: right;\n",
       "    }\n",
       "</style>\n",
       "<table border=\"1\" class=\"dataframe\">\n",
       "  <thead>\n",
       "    <tr style=\"text-align: right;\">\n",
       "      <th></th>\n",
       "      <th>client_id</th>\n",
       "      <th>company_id</th>\n",
       "      <th>delay</th>\n",
       "      <th>revenue</th>\n",
       "      <th>delay_categorical</th>\n",
       "    </tr>\n",
       "  </thead>\n",
       "  <tbody>\n",
       "    <tr>\n",
       "      <th>0</th>\n",
       "      <td>2389</td>\n",
       "      <td>4240</td>\n",
       "      <td>1 days 14:57:48</td>\n",
       "      <td>705436</td>\n",
       "      <td>(0 days 00:27:11.587000, 1 days 16:19:58.66666...</td>\n",
       "    </tr>\n",
       "    <tr>\n",
       "      <th>1</th>\n",
       "      <td>7614</td>\n",
       "      <td>9544</td>\n",
       "      <td>4 days 02:14:23</td>\n",
       "      <td>859266</td>\n",
       "      <td>(3 days 08:05:36.333333333, 4 days 23:51:14]</td>\n",
       "    </tr>\n",
       "    <tr>\n",
       "      <th>2</th>\n",
       "      <td>2052</td>\n",
       "      <td>2427</td>\n",
       "      <td>0 days 06:08:57</td>\n",
       "      <td>812416</td>\n",
       "      <td>(0 days 00:27:11.587000, 1 days 16:19:58.66666...</td>\n",
       "    </tr>\n",
       "    <tr>\n",
       "      <th>3</th>\n",
       "      <td>9635</td>\n",
       "      <td>8054</td>\n",
       "      <td>0 days 23:40:19</td>\n",
       "      <td>162312</td>\n",
       "      <td>(0 days 00:27:11.587000, 1 days 16:19:58.66666...</td>\n",
       "    </tr>\n",
       "    <tr>\n",
       "      <th>4</th>\n",
       "      <td>8154</td>\n",
       "      <td>5503</td>\n",
       "      <td>1 days 13:21:53</td>\n",
       "      <td>658844</td>\n",
       "      <td>(0 days 00:27:11.587000, 1 days 16:19:58.66666...</td>\n",
       "    </tr>\n",
       "  </tbody>\n",
       "</table>\n",
       "</div>"
      ],
      "text/plain": [
       "   client_id  company_id           delay  revenue  \\\n",
       "0       2389        4240 1 days 14:57:48   705436   \n",
       "1       7614        9544 4 days 02:14:23   859266   \n",
       "2       2052        2427 0 days 06:08:57   812416   \n",
       "3       9635        8054 0 days 23:40:19   162312   \n",
       "4       8154        5503 1 days 13:21:53   658844   \n",
       "\n",
       "                                   delay_categorical  \n",
       "0  (0 days 00:27:11.587000, 1 days 16:19:58.66666...  \n",
       "1       (3 days 08:05:36.333333333, 4 days 23:51:14]  \n",
       "2  (0 days 00:27:11.587000, 1 days 16:19:58.66666...  \n",
       "3  (0 days 00:27:11.587000, 1 days 16:19:58.66666...  \n",
       "4  (0 days 00:27:11.587000, 1 days 16:19:58.66666...  "
      ]
     },
     "execution_count": 103,
     "metadata": {},
     "output_type": "execute_result"
    }
   ],
   "source": [
    "df.head()"
   ]
  },
  {
   "cell_type": "code",
   "execution_count": 104,
   "id": "9c05722d",
   "metadata": {},
   "outputs": [
    {
     "data": {
      "text/plain": [
       "True"
      ]
     },
     "execution_count": 104,
     "metadata": {},
     "output_type": "execute_result"
    }
   ],
   "source": [
    "df['delay_categorical'].loc[0].right > pd.to_timedelta('1 days 00:00:00')"
   ]
  },
  {
   "cell_type": "code",
   "execution_count": 105,
   "id": "27f16a6e",
   "metadata": {},
   "outputs": [],
   "source": [
    "df['delay_categorical'] = pd.cut(df.delay, \n",
    "                                  bins = [pd.to_timedelta('0 days 00:00:00'), \n",
    "                                          pd.to_timedelta('0 days 23:59:59'), \n",
    "                                          pd.to_timedelta('1 days 23:59:59'),\n",
    "                                          pd.to_timedelta('2 days 23:59:59'),\n",
    "                                          pd.to_timedelta('106751 days 23:47:16.854775')], \n",
    "                                  labels = ['less than 1 day' , \n",
    "                                            '1-2 days', \n",
    "                                            '2-3 days', \n",
    "                                            'more than 3 days'])"
   ]
  },
  {
   "cell_type": "code",
   "execution_count": 106,
   "id": "2ccb5f53",
   "metadata": {},
   "outputs": [
    {
     "data": {
      "text/html": [
       "<div>\n",
       "<style scoped>\n",
       "    .dataframe tbody tr th:only-of-type {\n",
       "        vertical-align: middle;\n",
       "    }\n",
       "\n",
       "    .dataframe tbody tr th {\n",
       "        vertical-align: top;\n",
       "    }\n",
       "\n",
       "    .dataframe thead th {\n",
       "        text-align: right;\n",
       "    }\n",
       "</style>\n",
       "<table border=\"1\" class=\"dataframe\">\n",
       "  <thead>\n",
       "    <tr style=\"text-align: right;\">\n",
       "      <th></th>\n",
       "      <th>client_id</th>\n",
       "      <th>company_id</th>\n",
       "      <th>delay</th>\n",
       "      <th>revenue</th>\n",
       "      <th>delay_categorical</th>\n",
       "    </tr>\n",
       "  </thead>\n",
       "  <tbody>\n",
       "    <tr>\n",
       "      <th>0</th>\n",
       "      <td>2389</td>\n",
       "      <td>4240</td>\n",
       "      <td>1 days 14:57:48</td>\n",
       "      <td>705436</td>\n",
       "      <td>1-2 days</td>\n",
       "    </tr>\n",
       "    <tr>\n",
       "      <th>1</th>\n",
       "      <td>7614</td>\n",
       "      <td>9544</td>\n",
       "      <td>4 days 02:14:23</td>\n",
       "      <td>859266</td>\n",
       "      <td>more than 3 days</td>\n",
       "    </tr>\n",
       "    <tr>\n",
       "      <th>2</th>\n",
       "      <td>2052</td>\n",
       "      <td>2427</td>\n",
       "      <td>0 days 06:08:57</td>\n",
       "      <td>812416</td>\n",
       "      <td>less than 1 day</td>\n",
       "    </tr>\n",
       "    <tr>\n",
       "      <th>3</th>\n",
       "      <td>9635</td>\n",
       "      <td>8054</td>\n",
       "      <td>0 days 23:40:19</td>\n",
       "      <td>162312</td>\n",
       "      <td>less than 1 day</td>\n",
       "    </tr>\n",
       "    <tr>\n",
       "      <th>4</th>\n",
       "      <td>8154</td>\n",
       "      <td>5503</td>\n",
       "      <td>1 days 13:21:53</td>\n",
       "      <td>658844</td>\n",
       "      <td>1-2 days</td>\n",
       "    </tr>\n",
       "  </tbody>\n",
       "</table>\n",
       "</div>"
      ],
      "text/plain": [
       "   client_id  company_id           delay  revenue delay_categorical\n",
       "0       2389        4240 1 days 14:57:48   705436          1-2 days\n",
       "1       7614        9544 4 days 02:14:23   859266  more than 3 days\n",
       "2       2052        2427 0 days 06:08:57   812416   less than 1 day\n",
       "3       9635        8054 0 days 23:40:19   162312   less than 1 day\n",
       "4       8154        5503 1 days 13:21:53   658844          1-2 days"
      ]
     },
     "execution_count": 106,
     "metadata": {},
     "output_type": "execute_result"
    }
   ],
   "source": [
    "df.head()"
   ]
  },
  {
   "cell_type": "code",
   "execution_count": 117,
   "id": "aa29b00d",
   "metadata": {},
   "outputs": [
    {
     "data": {
      "text/plain": [
       "<AxesSubplot:xlabel='delay_categorical', ylabel='revenue'>"
      ]
     },
     "execution_count": 117,
     "metadata": {},
     "output_type": "execute_result"
    },
    {
     "data": {
      "image/png": "[encoded data removed]",
      "text/plain": [
       "<Figure size 864x576 with 1 Axes>"
      ]
     },
     "metadata": {
      "needs_background": "light"
     },
     "output_type": "display_data"
    }
   ],
   "source": [
    "plt.figure(figsize=(12, 8))\n",
    "sns.barplot(x = df.delay_categorical, y = df.revenue)"
   ]
  },
  {
   "cell_type": "code",
   "execution_count": null,
   "id": "6a91b932",
   "metadata": {},
   "outputs": [],
   "source": []
  }
 ],
 "metadata": {
  "kernelspec": {
   "display_name": "Python 3",
   "language": "python",
   "name": "python3"
  },
  "language_info": {
   "codemirror_mode": {
    "name": "ipython",
    "version": 3
   },
   "file_extension": ".py",
   "mimetype": "text/x-python",
   "name": "python",
   "nbconvert_exporter": "python",
   "pygments_lexer": "ipython3",
   "version": "3.8.8"
  }
 },
 "nbformat": 4,
 "nbformat_minor": 5
}
